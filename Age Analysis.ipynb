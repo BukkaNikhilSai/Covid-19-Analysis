{
 "cells": [
  {
   "cell_type": "code",
   "execution_count": 1,
   "metadata": {},
   "outputs": [],
   "source": [
    "import pandas as pd\n",
    "import matplotlib.pyplot as plt\n",
    "%matplotlib inline\n",
    "import geopandas as gpd"
   ]
  },
  {
   "cell_type": "code",
   "execution_count": 2,
   "metadata": {},
   "outputs": [],
   "source": [
    "individual_details = pd.read_csv('New_Data/IndividualDetails.csv')\n",
    "india_covid_19 = pd.read_csv('New_Data/covid_19_india.csv')"
   ]
  },
  {
   "cell_type": "code",
   "execution_count": 15,
   "metadata": {},
   "outputs": [
    {
     "name": "stdout",
     "output_type": "stream",
     "text": [
      "<class 'pandas.core.frame.DataFrame'>\n",
      "RangeIndex: 544 entries, 0 to 543\n",
      "Data columns (total 19 columns):\n",
      " #   Column               Non-Null Count  Dtype  \n",
      "---  ------               --------------  -----  \n",
      " 0   ID                   544 non-null    int64  \n",
      " 1   Unique id            544 non-null    int64  \n",
      " 2   Government id        130 non-null    object \n",
      " 3   Diagnosed date       544 non-null    object \n",
      " 4   Age                  266 non-null    float64\n",
      " 5   Gender               544 non-null    object \n",
      " 6   Detected city        400 non-null    object \n",
      " 7   Detected city pt     544 non-null    object \n",
      " 8   Detected district    387 non-null    object \n",
      " 9   Detected state       544 non-null    object \n",
      " 10  Nationality          358 non-null    object \n",
      " 11  Current status       543 non-null    object \n",
      " 12  Status change date   544 non-null    object \n",
      " 13  Notes                541 non-null    object \n",
      " 14  Current location     15 non-null     object \n",
      " 15  Current location pt  544 non-null    object \n",
      " 16  Created on           544 non-null    object \n",
      " 17  Updated on           544 non-null    object \n",
      " 18  Contacts             153 non-null    object \n",
      "dtypes: float64(1), int64(2), object(16)\n",
      "memory usage: 80.9+ KB\n"
     ]
    }
   ],
   "source": [
    "individual_details.info()\n"
   ]
  },
  {
   "cell_type": "markdown",
   "metadata": {},
   "source": [
    "\n",
    "The aim of this analysis is to understand various statistics related to the age group of the infected by Covid 19 in India."
   ]
  },
  {
   "cell_type": "code",
   "execution_count": 9,
   "metadata": {},
   "outputs": [],
   "source": [
    "age_cleaned = individual_details[[\"Age\", \"Detected state\"]]\n",
    "age_cleaned = age_cleaned[pd.to_numeric(age_cleaned[\"Age\"], errors='coerce').notnull()]\n",
    "age_cleaned = age_cleaned.astype({'Age': 'int'})"
   ]
  },
  {
   "cell_type": "code",
   "execution_count": null,
   "metadata": {},
   "outputs": [],
   "source": []
  },
  {
   "cell_type": "code",
   "execution_count": 12,
   "metadata": {},
   "outputs": [
    {
     "data": {
      "text/plain": [
       "Age               0.921053\n",
       "Detected state    0.921053\n",
       "dtype: float64"
      ]
     },
     "execution_count": 12,
     "metadata": {},
     "output_type": "execute_result"
    }
   ],
   "source": [
    "sum(age_cleaned[\"Age\"] > 20) / age_cleaned.count()"
   ]
  },
  {
   "cell_type": "markdown",
   "metadata": {},
   "source": [
    "This can either be attributed to young population in India or the mutations in virus that are making it more resiliant allowing it to infect younger people.\n",
    "\n",
    "Virus adapting to local conditions will have a few indicators in terms of decrease in average age with time and and places with high spread (Both these factors indicate more communal spread). This analysis would give more accurate results if community spread data is available. In case of India, this hasen't been properly documented after the forst 500 - 100 cases. So we resort to these methods to get an estimate.\n"
   ]
  },
  {
   "cell_type": "code",
   "execution_count": 30,
   "metadata": {
    "scrolled": true
   },
   "outputs": [
    {
     "data": {
      "text/plain": [
       "<matplotlib.axes._subplots.AxesSubplot at 0x194ca21fa00>"
      ]
     },
     "execution_count": 30,
     "metadata": {},
     "output_type": "execute_result"
    },
    {
     "data": {
      "image/png": "[encoded data removed]",
      "text/plain": [
       "<Figure size 432x288 with 1 Axes>"
      ]
     },
     "metadata": {
      "needs_background": "light"
     },
     "output_type": "display_data"
    }
   ],
   "source": [
    "age_cleaned = individual_details[[\"Age\", \"Diagnosed date\"]]\n",
    "age_cleaned = age_cleaned[pd.to_numeric(age_cleaned[\"Age\"], errors='coerce').notnull()]\n",
    "age_cleaned = age_cleaned.astype({'Age': 'int'})\n",
    "\n",
    "age_cleaned = age_cleaned.groupby([\"Diagnosed date\"]).agg([\"mean\", \"count\"])[\"Age\"]\n",
    "age_cleaned.index = pd.to_datetime(age_cleaned.index,dayfirst=True)\n",
    "age_cleaned = age_cleaned.sort_index()\n",
    "age_cleaned[age_cleaned[\"count\"] >= 5].plot(y = \"mean\")"
   ]
  },
  {
   "cell_type": "code",
   "execution_count": 24,
   "metadata": {},
   "outputs": [],
   "source": [
    "age_cleaned = individual_details[[\"Age\", \"Detected state\"]]\n",
    "age_cleaned = age_cleaned[pd.to_numeric(age_cleaned[\"Age\"], errors='coerce').notnull()]\n",
    "age_cleaned = age_cleaned.astype({'Age': 'int'})\n",
    "age_cleaned = age_cleaned.groupby([\"Detected state\"]).agg([\"mean\", \"count\"])[\"Age\"]\n",
    "counts = individual_details[[\"Detected state\", \"ID\"]].groupby([\"Detected state\"]).agg([\"count\"])[\"ID\"]\n",
    "counts.columns = [\"all_counts\"]"
   ]
  },
  {
   "cell_type": "code",
   "execution_count": 25,
   "metadata": {},
   "outputs": [
    {
     "data": {
      "image/png": "[encoded data removed]",
      "text/plain": [
       "<Figure size 432x288 with 1 Axes>"
      ]
     },
     "metadata": {
      "needs_background": "light"
     },
     "output_type": "display_data"
    }
   ],
   "source": [
    "state_age = pd.concat([counts, age_cleaned], axis = 1,sort = True).sort_values(by = [\"all_counts\"])\n",
    "\n",
    "state_age[\"States/UT\"] = state_age.index\n",
    "\n",
    "state_age[\"States/UT\"].replace(\"Telangana\", \"Telengana\", inplace = True)\n",
    "state_age[\"States/UT\"].replace(\"Dadra and Nagar Haveli\", \"Dadara and Nagar Havelli\", inplace = True)\n",
    "state_age.sort_values(by=['States/UT'],inplace = True)\n",
    "\n",
    "\n",
    "ax = state_age[state_age[\"count\"] > 20].plot(kind = \"bar\", y = \"mean\")"
   ]
  },
  {
   "cell_type": "code",
   "execution_count": 26,
   "metadata": {},
   "outputs": [
    {
     "data": {
      "text/html": [
       "<div>\n",
       "<style scoped>\n",
       "    .dataframe tbody tr th:only-of-type {\n",
       "        vertical-align: middle;\n",
       "    }\n",
       "\n",
       "    .dataframe tbody tr th {\n",
       "        vertical-align: top;\n",
       "    }\n",
       "\n",
       "    .dataframe thead th {\n",
       "        text-align: right;\n",
       "    }\n",
       "</style>\n",
       "<table border=\"1\" class=\"dataframe\">\n",
       "  <thead>\n",
       "    <tr style=\"text-align: right;\">\n",
       "      <th></th>\n",
       "      <th>States/UT</th>\n",
       "      <th>geometry</th>\n",
       "    </tr>\n",
       "  </thead>\n",
       "  <tbody>\n",
       "    <tr>\n",
       "      <th>0</th>\n",
       "      <td>Andaman and Nicobar Islands</td>\n",
       "      <td>MULTIPOLYGON (((93.71976 7.20707, 93.71909 7.2...</td>\n",
       "    </tr>\n",
       "    <tr>\n",
       "      <th>1</th>\n",
       "      <td>Arunachal Pradesh</td>\n",
       "      <td>POLYGON ((96.16261 29.38078, 96.16860 29.37432...</td>\n",
       "    </tr>\n",
       "    <tr>\n",
       "      <th>2</th>\n",
       "      <td>Assam</td>\n",
       "      <td>MULTIPOLYGON (((89.74323 26.30362, 89.74290 26...</td>\n",
       "    </tr>\n",
       "    <tr>\n",
       "      <th>3</th>\n",
       "      <td>Bihar</td>\n",
       "      <td>MULTIPOLYGON (((84.50720 24.26323, 84.50355 24...</td>\n",
       "    </tr>\n",
       "    <tr>\n",
       "      <th>4</th>\n",
       "      <td>Chandigarh</td>\n",
       "      <td>POLYGON ((76.84147 30.75996, 76.83599 30.73623...</td>\n",
       "    </tr>\n",
       "  </tbody>\n",
       "</table>\n",
       "</div>"
      ],
      "text/plain": [
       "                     States/UT  \\\n",
       "0  Andaman and Nicobar Islands   \n",
       "1            Arunachal Pradesh   \n",
       "2                        Assam   \n",
       "3                        Bihar   \n",
       "4                   Chandigarh   \n",
       "\n",
       "                                            geometry  \n",
       "0  MULTIPOLYGON (((93.71976 7.20707, 93.71909 7.2...  \n",
       "1  POLYGON ((96.16261 29.38078, 96.16860 29.37432...  \n",
       "2  MULTIPOLYGON (((89.74323 26.30362, 89.74290 26...  \n",
       "3  MULTIPOLYGON (((84.50720 24.26323, 84.50355 24...  \n",
       "4  POLYGON ((76.84147 30.75996, 76.83599 30.73623...  "
      ]
     },
     "execution_count": 26,
     "metadata": {},
     "output_type": "execute_result"
    }
   ],
   "source": [
    "\n",
    "\n",
    "map_data = gpd.read_file(\"./India_Shape_File/Indian_States.shp\")\n",
    "map_data.rename(columns = {\"st_nm\":\"States/UT\"}, inplace = True)\n",
    "\n",
    "map_data[\"States/UT\"] = map_data[\"States/UT\"].str.replace(\"&\",\"and\")\n",
    "map_data[\"States/UT\"].replace(\"Arunanchal Pradesh\", \"Arunachal Pradesh\", inplace = True)\n",
    "map_data[\"States/UT\"].replace(\"Telangana\", \"Telengana\", inplace = True)\n",
    "map_data[\"States/UT\"].replace(\"NCT of Delhi\",  \"Delhi\", inplace = True)\n",
    "map_data['States/UT'].replace('Andaman and Nicobar Island', 'Andaman and Nicobar Islands',inplace = True)\n",
    "\n",
    "map_data.head()\n",
    "\n"
   ]
  },
  {
   "cell_type": "code",
   "execution_count": 27,
   "metadata": {},
   "outputs": [],
   "source": [
    "state_details = pd.pivot_table(india_covid_19, values=['ConfirmedForeignNational','ConfirmedIndianNational','Confirmed','Deaths','Cured'], index='State/UnionTerritory', aggfunc='max')\n",
    "state_details = state_details.sort_values(by='Confirmed', ascending= False)\n",
    "\n",
    "state_details[\"Total\"] = state_details.Confirmed + state_details.Cured + state_details.Deaths\n",
    "\n",
    "state_details[\"States/UT\"] = state_details.index\n",
    "state_details.sort_values(by=['States/UT'],inplace =True)\n",
    "# state_details[state_details['States/UT']=='Telengana'].head()"
   ]
  },
  {
   "cell_type": "code",
   "execution_count": 28,
   "metadata": {},
   "outputs": [
    {
     "ename": "NotImplementedError",
     "evalue": "fillna currently only supports filling with a scalar geometry",
     "output_type": "error",
     "traceback": [
      "\u001b[1;31m---------------------------------------------------------------------------\u001b[0m",
      "\u001b[1;31mNotImplementedError\u001b[0m                       Traceback (most recent call last)",
      "\u001b[1;32m<ipython-input-28-b48719899cc7>\u001b[0m in \u001b[0;36m<module>\u001b[1;34m\u001b[0m\n\u001b[0;32m      1\u001b[0m \u001b[0mmerged_data\u001b[0m \u001b[1;33m=\u001b[0m \u001b[0mpd\u001b[0m\u001b[1;33m.\u001b[0m\u001b[0mmerge\u001b[0m\u001b[1;33m(\u001b[0m\u001b[0mmap_data\u001b[0m\u001b[1;33m,\u001b[0m \u001b[0mstate_age\u001b[0m\u001b[1;33m,\u001b[0m \u001b[0mhow\u001b[0m \u001b[1;33m=\u001b[0m \u001b[1;34m\"left\"\u001b[0m\u001b[1;33m,\u001b[0m \u001b[0mon\u001b[0m \u001b[1;33m=\u001b[0m \u001b[1;34m\"States/UT\"\u001b[0m\u001b[1;33m)\u001b[0m\u001b[1;33m\u001b[0m\u001b[1;33m\u001b[0m\u001b[0m\n\u001b[1;32m----> 2\u001b[1;33m \u001b[0mmerged_data\u001b[0m\u001b[1;33m.\u001b[0m\u001b[0mfillna\u001b[0m\u001b[1;33m(\u001b[0m\u001b[1;36m0\u001b[0m\u001b[1;33m,\u001b[0m \u001b[0minplace\u001b[0m \u001b[1;33m=\u001b[0m \u001b[1;32mTrue\u001b[0m\u001b[1;33m)\u001b[0m\u001b[1;33m\u001b[0m\u001b[1;33m\u001b[0m\u001b[0m\n\u001b[0m\u001b[0;32m      3\u001b[0m \u001b[0mmerged_data\u001b[0m \u001b[1;33m=\u001b[0m \u001b[0mpd\u001b[0m\u001b[1;33m.\u001b[0m\u001b[0mmerge\u001b[0m\u001b[1;33m(\u001b[0m\u001b[0mmerged_data\u001b[0m\u001b[1;33m,\u001b[0m \u001b[0mstate_details\u001b[0m\u001b[1;33m,\u001b[0m \u001b[0mhow\u001b[0m \u001b[1;33m=\u001b[0m \u001b[1;34m\"left\"\u001b[0m\u001b[1;33m,\u001b[0m \u001b[0mon\u001b[0m \u001b[1;33m=\u001b[0m \u001b[1;34m\"States/UT\"\u001b[0m\u001b[1;33m)\u001b[0m\u001b[1;33m\u001b[0m\u001b[1;33m\u001b[0m\u001b[0m\n\u001b[0;32m      4\u001b[0m \u001b[0mmerged_data\u001b[0m\u001b[1;33m.\u001b[0m\u001b[0mfillna\u001b[0m\u001b[1;33m(\u001b[0m\u001b[1;36m0\u001b[0m\u001b[1;33m,\u001b[0m \u001b[0minplace\u001b[0m \u001b[1;33m=\u001b[0m \u001b[1;32mTrue\u001b[0m\u001b[1;33m)\u001b[0m\u001b[1;33m\u001b[0m\u001b[1;33m\u001b[0m\u001b[0m\n\u001b[0;32m      5\u001b[0m \u001b[1;33m\u001b[0m\u001b[0m\n",
      "\u001b[1;32m~\\anaconda3\\envs\\nikhil\\lib\\site-packages\\pandas\\core\\frame.py\u001b[0m in \u001b[0;36mfillna\u001b[1;34m(self, value, method, axis, inplace, limit, downcast)\u001b[0m\n\u001b[0;32m   4145\u001b[0m         \u001b[0mdowncast\u001b[0m\u001b[1;33m=\u001b[0m\u001b[1;32mNone\u001b[0m\u001b[1;33m,\u001b[0m\u001b[1;33m\u001b[0m\u001b[1;33m\u001b[0m\u001b[0m\n\u001b[0;32m   4146\u001b[0m     ) -> Optional[\"DataFrame\"]:\n\u001b[1;32m-> 4147\u001b[1;33m         return super().fillna(\n\u001b[0m\u001b[0;32m   4148\u001b[0m             \u001b[0mvalue\u001b[0m\u001b[1;33m=\u001b[0m\u001b[0mvalue\u001b[0m\u001b[1;33m,\u001b[0m\u001b[1;33m\u001b[0m\u001b[1;33m\u001b[0m\u001b[0m\n\u001b[0;32m   4149\u001b[0m             \u001b[0mmethod\u001b[0m\u001b[1;33m=\u001b[0m\u001b[0mmethod\u001b[0m\u001b[1;33m,\u001b[0m\u001b[1;33m\u001b[0m\u001b[1;33m\u001b[0m\u001b[0m\n",
      "\u001b[1;32m~\\anaconda3\\envs\\nikhil\\lib\\site-packages\\pandas\\core\\generic.py\u001b[0m in \u001b[0;36mfillna\u001b[1;34m(self, value, method, axis, inplace, limit, downcast)\u001b[0m\n\u001b[0;32m   6234\u001b[0m \u001b[1;33m\u001b[0m\u001b[0m\n\u001b[0;32m   6235\u001b[0m             \u001b[1;32melif\u001b[0m \u001b[1;32mnot\u001b[0m \u001b[0mis_list_like\u001b[0m\u001b[1;33m(\u001b[0m\u001b[0mvalue\u001b[0m\u001b[1;33m)\u001b[0m\u001b[1;33m:\u001b[0m\u001b[1;33m\u001b[0m\u001b[1;33m\u001b[0m\u001b[0m\n\u001b[1;32m-> 6236\u001b[1;33m                 new_data = self._data.fillna(\n\u001b[0m\u001b[0;32m   6237\u001b[0m                     \u001b[0mvalue\u001b[0m\u001b[1;33m=\u001b[0m\u001b[0mvalue\u001b[0m\u001b[1;33m,\u001b[0m \u001b[0mlimit\u001b[0m\u001b[1;33m=\u001b[0m\u001b[0mlimit\u001b[0m\u001b[1;33m,\u001b[0m \u001b[0minplace\u001b[0m\u001b[1;33m=\u001b[0m\u001b[0minplace\u001b[0m\u001b[1;33m,\u001b[0m \u001b[0mdowncast\u001b[0m\u001b[1;33m=\u001b[0m\u001b[0mdowncast\u001b[0m\u001b[1;33m\u001b[0m\u001b[1;33m\u001b[0m\u001b[0m\n\u001b[0;32m   6238\u001b[0m                 )\n",
      "\u001b[1;32m~\\anaconda3\\envs\\nikhil\\lib\\site-packages\\pandas\\core\\internals\\managers.py\u001b[0m in \u001b[0;36mfillna\u001b[1;34m(self, **kwargs)\u001b[0m\n\u001b[0;32m    574\u001b[0m \u001b[1;33m\u001b[0m\u001b[0m\n\u001b[0;32m    575\u001b[0m     \u001b[1;32mdef\u001b[0m \u001b[0mfillna\u001b[0m\u001b[1;33m(\u001b[0m\u001b[0mself\u001b[0m\u001b[1;33m,\u001b[0m \u001b[1;33m**\u001b[0m\u001b[0mkwargs\u001b[0m\u001b[1;33m)\u001b[0m\u001b[1;33m:\u001b[0m\u001b[1;33m\u001b[0m\u001b[1;33m\u001b[0m\u001b[0m\n\u001b[1;32m--> 576\u001b[1;33m         \u001b[1;32mreturn\u001b[0m \u001b[0mself\u001b[0m\u001b[1;33m.\u001b[0m\u001b[0mapply\u001b[0m\u001b[1;33m(\u001b[0m\u001b[1;34m\"fillna\"\u001b[0m\u001b[1;33m,\u001b[0m \u001b[1;33m**\u001b[0m\u001b[0mkwargs\u001b[0m\u001b[1;33m)\u001b[0m\u001b[1;33m\u001b[0m\u001b[1;33m\u001b[0m\u001b[0m\n\u001b[0m\u001b[0;32m    577\u001b[0m \u001b[1;33m\u001b[0m\u001b[0m\n\u001b[0;32m    578\u001b[0m     \u001b[1;32mdef\u001b[0m \u001b[0mdowncast\u001b[0m\u001b[1;33m(\u001b[0m\u001b[0mself\u001b[0m\u001b[1;33m,\u001b[0m \u001b[1;33m**\u001b[0m\u001b[0mkwargs\u001b[0m\u001b[1;33m)\u001b[0m\u001b[1;33m:\u001b[0m\u001b[1;33m\u001b[0m\u001b[1;33m\u001b[0m\u001b[0m\n",
      "\u001b[1;32m~\\anaconda3\\envs\\nikhil\\lib\\site-packages\\pandas\\core\\internals\\managers.py\u001b[0m in \u001b[0;36mapply\u001b[1;34m(self, f, filter, **kwargs)\u001b[0m\n\u001b[0;32m    440\u001b[0m                 \u001b[0mapplied\u001b[0m \u001b[1;33m=\u001b[0m \u001b[0mb\u001b[0m\u001b[1;33m.\u001b[0m\u001b[0mapply\u001b[0m\u001b[1;33m(\u001b[0m\u001b[0mf\u001b[0m\u001b[1;33m,\u001b[0m \u001b[1;33m**\u001b[0m\u001b[0mkwargs\u001b[0m\u001b[1;33m)\u001b[0m\u001b[1;33m\u001b[0m\u001b[1;33m\u001b[0m\u001b[0m\n\u001b[0;32m    441\u001b[0m             \u001b[1;32melse\u001b[0m\u001b[1;33m:\u001b[0m\u001b[1;33m\u001b[0m\u001b[1;33m\u001b[0m\u001b[0m\n\u001b[1;32m--> 442\u001b[1;33m                 \u001b[0mapplied\u001b[0m \u001b[1;33m=\u001b[0m \u001b[0mgetattr\u001b[0m\u001b[1;33m(\u001b[0m\u001b[0mb\u001b[0m\u001b[1;33m,\u001b[0m \u001b[0mf\u001b[0m\u001b[1;33m)\u001b[0m\u001b[1;33m(\u001b[0m\u001b[1;33m**\u001b[0m\u001b[0mkwargs\u001b[0m\u001b[1;33m)\u001b[0m\u001b[1;33m\u001b[0m\u001b[1;33m\u001b[0m\u001b[0m\n\u001b[0m\u001b[0;32m    443\u001b[0m             \u001b[0mresult_blocks\u001b[0m \u001b[1;33m=\u001b[0m \u001b[0m_extend_blocks\u001b[0m\u001b[1;33m(\u001b[0m\u001b[0mapplied\u001b[0m\u001b[1;33m,\u001b[0m \u001b[0mresult_blocks\u001b[0m\u001b[1;33m)\u001b[0m\u001b[1;33m\u001b[0m\u001b[1;33m\u001b[0m\u001b[0m\n\u001b[0;32m    444\u001b[0m \u001b[1;33m\u001b[0m\u001b[0m\n",
      "\u001b[1;32m~\\anaconda3\\envs\\nikhil\\lib\\site-packages\\pandas\\core\\internals\\blocks.py\u001b[0m in \u001b[0;36mfillna\u001b[1;34m(self, value, limit, inplace, downcast)\u001b[0m\n\u001b[0;32m   1874\u001b[0m     \u001b[1;32mdef\u001b[0m \u001b[0mfillna\u001b[0m\u001b[1;33m(\u001b[0m\u001b[0mself\u001b[0m\u001b[1;33m,\u001b[0m \u001b[0mvalue\u001b[0m\u001b[1;33m,\u001b[0m \u001b[0mlimit\u001b[0m\u001b[1;33m=\u001b[0m\u001b[1;32mNone\u001b[0m\u001b[1;33m,\u001b[0m \u001b[0minplace\u001b[0m\u001b[1;33m=\u001b[0m\u001b[1;32mFalse\u001b[0m\u001b[1;33m,\u001b[0m \u001b[0mdowncast\u001b[0m\u001b[1;33m=\u001b[0m\u001b[1;32mNone\u001b[0m\u001b[1;33m)\u001b[0m\u001b[1;33m:\u001b[0m\u001b[1;33m\u001b[0m\u001b[1;33m\u001b[0m\u001b[0m\n\u001b[0;32m   1875\u001b[0m         \u001b[0mvalues\u001b[0m \u001b[1;33m=\u001b[0m \u001b[0mself\u001b[0m\u001b[1;33m.\u001b[0m\u001b[0mvalues\u001b[0m \u001b[1;32mif\u001b[0m \u001b[0minplace\u001b[0m \u001b[1;32melse\u001b[0m \u001b[0mself\u001b[0m\u001b[1;33m.\u001b[0m\u001b[0mvalues\u001b[0m\u001b[1;33m.\u001b[0m\u001b[0mcopy\u001b[0m\u001b[1;33m(\u001b[0m\u001b[1;33m)\u001b[0m\u001b[1;33m\u001b[0m\u001b[1;33m\u001b[0m\u001b[0m\n\u001b[1;32m-> 1876\u001b[1;33m         \u001b[0mvalues\u001b[0m \u001b[1;33m=\u001b[0m \u001b[0mvalues\u001b[0m\u001b[1;33m.\u001b[0m\u001b[0mfillna\u001b[0m\u001b[1;33m(\u001b[0m\u001b[0mvalue\u001b[0m\u001b[1;33m=\u001b[0m\u001b[0mvalue\u001b[0m\u001b[1;33m,\u001b[0m \u001b[0mlimit\u001b[0m\u001b[1;33m=\u001b[0m\u001b[0mlimit\u001b[0m\u001b[1;33m)\u001b[0m\u001b[1;33m\u001b[0m\u001b[1;33m\u001b[0m\u001b[0m\n\u001b[0m\u001b[0;32m   1877\u001b[0m         return [\n\u001b[0;32m   1878\u001b[0m             self.make_block_same_class(\n",
      "\u001b[1;32m~\\anaconda3\\envs\\nikhil\\lib\\site-packages\\geopandas\\array.py\u001b[0m in \u001b[0;36mfillna\u001b[1;34m(self, value, method, limit)\u001b[0m\n\u001b[0;32m    833\u001b[0m             \u001b[0mvalue\u001b[0m \u001b[1;33m=\u001b[0m \u001b[1;32mNone\u001b[0m\u001b[1;33m\u001b[0m\u001b[1;33m\u001b[0m\u001b[0m\n\u001b[0;32m    834\u001b[0m         \u001b[1;32melif\u001b[0m \u001b[1;32mnot\u001b[0m \u001b[0misinstance\u001b[0m\u001b[1;33m(\u001b[0m\u001b[0mvalue\u001b[0m\u001b[1;33m,\u001b[0m \u001b[0mBaseGeometry\u001b[0m\u001b[1;33m)\u001b[0m\u001b[1;33m:\u001b[0m\u001b[1;33m\u001b[0m\u001b[1;33m\u001b[0m\u001b[0m\n\u001b[1;32m--> 835\u001b[1;33m             raise NotImplementedError(\n\u001b[0m\u001b[0;32m    836\u001b[0m                 \u001b[1;34m\"fillna currently only supports filling with a scalar geometry\"\u001b[0m\u001b[1;33m\u001b[0m\u001b[1;33m\u001b[0m\u001b[0m\n\u001b[0;32m    837\u001b[0m             )\n",
      "\u001b[1;31mNotImplementedError\u001b[0m: fillna currently only supports filling with a scalar geometry"
     ]
    }
   ],
   "source": [
    "merged_data = pd.merge(map_data, state_age, how = \"left\", on = \"States/UT\")\n",
    "merged_data.fillna(0, inplace = True)\n",
    "merged_data = pd.merge(merged_data, state_details, how = \"left\", on = \"States/UT\")\n",
    "merged_data.fillna(0, inplace = True)\n",
    "\n",
    "merged_data['coords'] = merged_data['geometry'].apply(lambda x: x.representative_point().coords[:])\n",
    "merged_data['coords'] = [coords[0] for coords in merged_data['coords']]"
   ]
  },
  {
   "cell_type": "code",
   "execution_count": null,
   "metadata": {},
   "outputs": [],
   "source": [
    "fig, ax = plt.subplots(1, figsize=(20, 12))\n",
    "ax.axis(\"off\")\n",
    "\n",
    "ax.set_title('Covid-19 Statewise Data — Mean Age', \n",
    "             fontdict =  {\"fontsize\": \"25\", \"fontweight\" : \"3\"})\n",
    "\n",
    "merged_data.plot(column = \"Total\", cmap=\"YlOrRd\", \n",
    "                 linewidth=0.8, ax=ax, edgecolor=\"0\", \n",
    "                 legend = True)\n",
    "# plt.show()\n",
    "\n",
    "\n",
    "# merged_data.plot()\n",
    "for idx, row in merged_data.iterrows():\n",
    "    plt.annotate(s=round(row['mean'],1), xy=row['coords'],\n",
    "                 horizontalalignment='center')"
   ]
  },
  {
   "cell_type": "markdown",
   "metadata": {},
   "source": [
    "\n",
    "\n",
    "Above plot shows the distribution of average age in various geographical locations. Since age is nor properly documented in data provided by a few states, only the states for which proper data is available are considered.\n",
    "\n",
    "From the plot, it can be seen that in most of the cases, the average age is around 45. There are two factors that can influence the average age of Covid victims in a state. First one is the average age for population of the state itself and the other one being high communal spread leading to lower age groups being affected. The plot correlates with the average population age of the states( Tamilnadu, Uttarpradesh have higher average while Maharastra has lower average for the average age of population in respective states.\n",
    "Conclusions\n",
    "\n",
    "    Even though Covid is known to affect people of older age group, in a community with an younger population, it can be seen that younger people are getting affected too. Whether a younger population means less rate of spread is a point of discussion*.\n",
    "    There is no conclusive evidence to prove that the virus is growing resiliant to attack more young people with more communal spread. BUt the evidence weakly points to that happening. Another factor for this might be virus becoming more resiliant to local conditions rather than affecting younger people.\n",
    "    More conclusions can be drawn combining this with further analysis on other factors.\n",
    "\n",
    "*Although stats show that the rate of spread is less in India compared to other contries, various other probable reasons like exposure to Hydro Chloroquione(malarial cases in tropical countries), vaccinations for TB etc have been cited for this. So a younger community may not be the only explanation.\n"
   ]
  },
  {
   "cell_type": "code",
   "execution_count": null,
   "metadata": {},
   "outputs": [],
   "source": []
  },
  {
   "cell_type": "code",
   "execution_count": null,
   "metadata": {},
   "outputs": [],
   "source": []
  },
  {
   "cell_type": "code",
   "execution_count": null,
   "metadata": {},
   "outputs": [],
   "source": []
  },
  {
   "cell_type": "code",
   "execution_count": null,
   "metadata": {},
   "outputs": [],
   "source": []
  },
  {
   "cell_type": "code",
   "execution_count": null,
   "metadata": {},
   "outputs": [],
   "source": []
  },
  {
   "cell_type": "code",
   "execution_count": null,
   "metadata": {},
   "outputs": [],
   "source": []
  }
 ],
 "metadata": {
  "kernelspec": {
   "display_name": "Python 3",
   "language": "python",
   "name": "python3"
  },
  "language_info": {
   "codemirror_mode": {
    "name": "ipython",
    "version": 3
   },
   "file_extension": ".py",
   "mimetype": "text/x-python",
   "name": "python",
   "nbconvert_exporter": "python",
   "pygments_lexer": "ipython3",
   "version": "3.8.2"
  }
 },
 "nbformat": 4,
 "nbformat_minor": 4
}
