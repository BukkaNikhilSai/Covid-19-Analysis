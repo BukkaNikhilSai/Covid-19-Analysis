{
 "cells": [
  {
   "cell_type": "code",
   "execution_count": 1,
   "metadata": {},
   "outputs": [
    {
     "ename": "ModuleNotFoundError",
     "evalue": "No module named 'geopandas'",
     "output_type": "error",
     "traceback": [
      "\u001b[1;31m---------------------------------------------------------------------------\u001b[0m",
      "\u001b[1;31mModuleNotFoundError\u001b[0m                       Traceback (most recent call last)",
      "\u001b[1;32m<ipython-input-1-3cec0203666b>\u001b[0m in \u001b[0;36m<module>\u001b[1;34m\u001b[0m\n\u001b[0;32m      2\u001b[0m \u001b[1;32mimport\u001b[0m \u001b[0mmatplotlib\u001b[0m\u001b[1;33m.\u001b[0m\u001b[0mpyplot\u001b[0m \u001b[1;32mas\u001b[0m \u001b[0mplt\u001b[0m\u001b[1;33m\u001b[0m\u001b[1;33m\u001b[0m\u001b[0m\n\u001b[0;32m      3\u001b[0m \u001b[0mget_ipython\u001b[0m\u001b[1;33m(\u001b[0m\u001b[1;33m)\u001b[0m\u001b[1;33m.\u001b[0m\u001b[0mrun_line_magic\u001b[0m\u001b[1;33m(\u001b[0m\u001b[1;34m'matplotlib'\u001b[0m\u001b[1;33m,\u001b[0m \u001b[1;34m'inline'\u001b[0m\u001b[1;33m)\u001b[0m\u001b[1;33m\u001b[0m\u001b[1;33m\u001b[0m\u001b[0m\n\u001b[1;32m----> 4\u001b[1;33m \u001b[1;32mimport\u001b[0m \u001b[0mgeopandas\u001b[0m \u001b[1;32mas\u001b[0m \u001b[0mgpd\u001b[0m\u001b[1;33m\u001b[0m\u001b[1;33m\u001b[0m\u001b[0m\n\u001b[0m",
      "\u001b[1;31mModuleNotFoundError\u001b[0m: No module named 'geopandas'"
     ]
    }
   ],
   "source": [
    "import pandas as pd\n",
    "import matplotlib.pyplot as plt\n",
    "%matplotlib inline\n",
    "import geopandas as gpd"
   ]
  },
  {
   "cell_type": "code",
   "execution_count": null,
   "metadata": {},
   "outputs": [],
   "source": [
    "individual_details = pd.read_csv('New_Data/IndividualDetails.csv')\n",
    "india_covid_19 = pd.read_csv('New_Data/covid_19_india.csv')"
   ]
  },
  {
   "cell_type": "code",
   "execution_count": null,
   "metadata": {},
   "outputs": [],
   "source": [
    "individual_details.head()\n"
   ]
  },
  {
   "cell_type": "markdown",
   "metadata": {},
   "source": [
    "\n",
    "The aim of this analysis is to understand various statistics related to the age group of the infected by Covid 19 in India."
   ]
  },
  {
   "cell_type": "code",
   "execution_count": null,
   "metadata": {},
   "outputs": [],
   "source": [
    "age_cleaned = individual_details[[\"age\", \"detected_state\"]]\n",
    "age_cleaned = age_cleaned[pd.to_numeric(age_cleaned[\"age\"], errors='coerce').notnull()]\n",
    "age_cleaned = age_cleaned.astype({'age': 'int'})"
   ]
  },
  {
   "cell_type": "code",
   "execution_count": null,
   "metadata": {},
   "outputs": [],
   "source": [
    "sum(age_cleaned[\"age\"] > 30) / age_cleaned.count()"
   ]
  },
  {
   "cell_type": "code",
   "execution_count": null,
   "metadata": {},
   "outputs": [],
   "source": []
  },
  {
   "cell_type": "code",
   "execution_count": null,
   "metadata": {},
   "outputs": [],
   "source": [
    "sum(age_cleaned[\"age\"] > 20) / age_cleaned.count()"
   ]
  },
  {
   "cell_type": "markdown",
   "metadata": {},
   "source": [
    "This can either be attributed to young population in India or the mutations in virus that are making it more resiliant allowing it to infect younger people.\n",
    "\n",
    "Virus adapting to local conditions will have a few indicators in terms of decrease in average age with time and and places with high spread (Both these factors indicate more communal spread). This analysis would give more accurate results if community spread data is available. In case of India, this hasen't been properly documented after the forst 500 - 100 cases. So we resort to these methods to get an estimate.\n"
   ]
  },
  {
   "cell_type": "code",
   "execution_count": null,
   "metadata": {},
   "outputs": [],
   "source": [
    "age_cleaned = individual_details[[\"age\", \"diagnosed_date\"]]\n",
    "age_cleaned = age_cleaned[pd.to_numeric(age_cleaned[\"age\"], errors='coerce').notnull()]\n",
    "age_cleaned = age_cleaned.astype({'age': 'int'})\n",
    "\n",
    "age_cleaned = age_cleaned.groupby([\"diagnosed_date\"]).agg([\"mean\", \"count\"])[\"age\"]\n",
    "age_cleaned.index = pd.to_datetime(age_cleaned.index,dayfirst=True,format=\"%d/%m/%Y\")\n",
    "age_cleaned = age_cleaned.sort_index()\n",
    "age_cleaned[age_cleaned[\"count\"] >= 5].plot(y = \"mean\")"
   ]
  },
  {
   "cell_type": "code",
   "execution_count": null,
   "metadata": {},
   "outputs": [],
   "source": [
    "age_cleaned = individual_details[[\"age\", \"detected_state\"]]\n",
    "age_cleaned = age_cleaned[pd.to_numeric(age_cleaned[\"age\"], errors='coerce').notnull()]\n",
    "age_cleaned = age_cleaned.astype({'age': 'int'})\n",
    "age_cleaned = age_cleaned.groupby([\"detected_state\"]).agg([\"mean\", \"count\"])[\"age\"]\n",
    "counts = individual_details[[\"detected_state\", \"id\"]].groupby([\"detected_state\"]).agg([\"count\"])[\"id\"]\n",
    "counts.columns = [\"all_counts\"]"
   ]
  },
  {
   "cell_type": "code",
   "execution_count": null,
   "metadata": {},
   "outputs": [],
   "source": [
    "state_age = pd.concat([counts, age_cleaned], axis = 1,sort = True).sort_values(by = [\"all_counts\"])\n",
    "\n",
    "state_age[\"States/UT\"] = state_age.index\n",
    "\n",
    "state_age[\"States/UT\"].replace(\"Telangana\", \"Telengana\", inplace = True)\n",
    "state_age[\"States/UT\"].replace(\"Dadra and Nagar Haveli\", \"Dadara and Nagar Havelli\", inplace = True)\n",
    "state_age.sort_values(by=['States/UT'],inplace = True)\n",
    "\n",
    "\n",
    "ax = state_age[state_age[\"count\"] > 20].plot(kind = \"bar\", y = \"mean\")"
   ]
  },
  {
   "cell_type": "code",
   "execution_count": null,
   "metadata": {},
   "outputs": [],
   "source": [
    "\n",
    "\n",
    "map_data = gpd.read_file(\"./India_Shape_File/Indian_States.shp\")\n",
    "map_data.rename(columns = {\"st_nm\":\"States/UT\"}, inplace = True)\n",
    "\n",
    "map_data[\"States/UT\"] = map_data[\"States/UT\"].str.replace(\"&\",\"and\")\n",
    "map_data[\"States/UT\"].replace(\"Arunanchal Pradesh\", \"Arunachal Pradesh\", inplace = True)\n",
    "map_data[\"States/UT\"].replace(\"Telangana\", \"Telengana\", inplace = True)\n",
    "map_data[\"States/UT\"].replace(\"NCT of Delhi\",  \"Delhi\", inplace = True)\n",
    "map_data['States/UT'].replace('Andaman and Nicobar Island', 'Andaman and Nicobar Islands',inplace = True)\n",
    "\n",
    "map_data.head()\n",
    "\n"
   ]
  },
  {
   "cell_type": "code",
   "execution_count": null,
   "metadata": {},
   "outputs": [],
   "source": [
    "state_details = pd.pivot_table(india_covid_19, values=['ConfirmedForeignNational','ConfirmedIndianNational','Confirmed','Deaths','Cured'], index='State/UnionTerritory', aggfunc='max')\n",
    "state_details = state_details.sort_values(by='Confirmed', ascending= False)\n",
    "\n",
    "state_details[\"Total\"] = state_details.Confirmed + state_details.Cured + state_details.Deaths\n",
    "\n",
    "state_details[\"States/UT\"] = state_details.index\n",
    "state_details.sort_values(by=['States/UT'],inplace =True)\n",
    "# state_details[state_details['States/UT']=='Telengana'].head()"
   ]
  },
  {
   "cell_type": "code",
   "execution_count": null,
   "metadata": {},
   "outputs": [],
   "source": [
    "merged_data = pd.merge(map_data, state_age, how = \"left\", on = \"States/UT\")\n",
    "merged_data.fillna(0, inplace = True)\n",
    "merged_data = pd.merge(merged_data, state_details, how = \"left\", on = \"States/UT\")\n",
    "merged_data.fillna(0, inplace = True)\n",
    "\n",
    "merged_data['coords'] = merged_data['geometry'].apply(lambda x: x.representative_point().coords[:])\n",
    "merged_data['coords'] = [coords[0] for coords in merged_data['coords']]"
   ]
  },
  {
   "cell_type": "code",
   "execution_count": null,
   "metadata": {},
   "outputs": [],
   "source": [
    "fig, ax = plt.subplots(1, figsize=(20, 12))\n",
    "ax.axis(\"off\")\n",
    "\n",
    "ax.set_title('Covid-19 Statewise Data — Mean Age', \n",
    "             fontdict =  {\"fontsize\": \"25\", \"fontweight\" : \"3\"})\n",
    "\n",
    "merged_data.plot(column = \"Total\", cmap=\"YlOrRd\", \n",
    "                 linewidth=0.8, ax=ax, edgecolor=\"0\", \n",
    "                 legend = True)\n",
    "# plt.show()\n",
    "\n",
    "\n",
    "# merged_data.plot()\n",
    "for idx, row in merged_data.iterrows():\n",
    "    plt.annotate(s=round(row['mean'],1), xy=row['coords'],\n",
    "                 horizontalalignment='center')"
   ]
  },
  {
   "cell_type": "markdown",
   "metadata": {},
   "source": [
    "\n",
    "\n",
    "Above plot shows the distribution of average age in various geographical locations. Since age is nor properly documented in data provided by a few states, only the states for which proper data is available are considered.\n",
    "\n",
    "From the plot, it can be seen that in most of the cases, the average age is around 45. There are two factors that can influence the average age of Covid victims in a state. First one is the average age for population of the state itself and the other one being high communal spread leading to lower age groups being affected. The plot correlates with the average population age of the states( Tamilnadu, Uttarpradesh have higher average while Maharastra has lower average for the average age of population in respective states.\n",
    "Conclusions\n",
    "\n",
    "    Even though Covid is known to affect people of older age group, in a community with an younger population, it can be seen that younger people are getting affected too. Whether a younger population means less rate of spread is a point of discussion*.\n",
    "    There is no conclusive evidence to prove that the virus is growing resiliant to attack more young people with more communal spread. BUt the evidence weakly points to that happening. Another factor for this might be virus becoming more resiliant to local conditions rather than affecting younger people.\n",
    "    More conclusions can be drawn combining this with further analysis on other factors.\n",
    "\n",
    "*Although stats show that the rate of spread is less in India compared to other contries, various other probable reasons like exposure to Hydro Chloroquione(malarial cases in tropical countries), vaccinations for TB etc have been cited for this. So a younger community may not be the only explanation.\n"
   ]
  },
  {
   "cell_type": "code",
   "execution_count": null,
   "metadata": {},
   "outputs": [],
   "source": []
  },
  {
   "cell_type": "code",
   "execution_count": null,
   "metadata": {},
   "outputs": [],
   "source": []
  },
  {
   "cell_type": "code",
   "execution_count": null,
   "metadata": {},
   "outputs": [],
   "source": []
  },
  {
   "cell_type": "code",
   "execution_count": null,
   "metadata": {},
   "outputs": [],
   "source": []
  },
  {
   "cell_type": "code",
   "execution_count": null,
   "metadata": {},
   "outputs": [],
   "source": []
  },
  {
   "cell_type": "code",
   "execution_count": null,
   "metadata": {},
   "outputs": [],
   "source": []
  }
 ],
 "metadata": {
  "kernelspec": {
   "display_name": "Python 3",
   "language": "python",
   "name": "python3"
  },
  "language_info": {
   "codemirror_mode": {
    "name": "ipython",
    "version": 3
   },
   "file_extension": ".py",
   "mimetype": "text/x-python",
   "name": "python",
   "nbconvert_exporter": "python",
   "pygments_lexer": "ipython3",
   "version": "3.7.6"
  }
 },
 "nbformat": 4,
 "nbformat_minor": 4
}
