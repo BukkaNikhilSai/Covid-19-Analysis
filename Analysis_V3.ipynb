{
 "cells": [
  {
   "cell_type": "code",
   "execution_count": 1,
   "metadata": {},
   "outputs": [
    {
     "ename": "ModuleNotFoundError",
     "evalue": "No module named 'geopandas'",
     "output_type": "error",
     "traceback": [
      "\u001b[1;31m---------------------------------------------------------------------------\u001b[0m",
      "\u001b[1;31mModuleNotFoundError\u001b[0m                       Traceback (most recent call last)",
      "\u001b[1;32m<ipython-input-1-c0b20ac0ea24>\u001b[0m in \u001b[0;36m<module>\u001b[1;34m\u001b[0m\n\u001b[0;32m      4\u001b[0m \u001b[1;32mimport\u001b[0m \u001b[0mrequests\u001b[0m\u001b[1;33m\u001b[0m\u001b[1;33m\u001b[0m\u001b[0m\n\u001b[0;32m      5\u001b[0m \u001b[1;32mimport\u001b[0m \u001b[0mwarnings\u001b[0m\u001b[1;33m\u001b[0m\u001b[1;33m\u001b[0m\u001b[0m\n\u001b[1;32m----> 6\u001b[1;33m \u001b[1;32mimport\u001b[0m \u001b[0mgeopandas\u001b[0m \u001b[1;32mas\u001b[0m \u001b[0mgpd\u001b[0m\u001b[1;33m\u001b[0m\u001b[1;33m\u001b[0m\u001b[0m\n\u001b[0m\u001b[0;32m      7\u001b[0m \u001b[1;33m\u001b[0m\u001b[0m\n\u001b[0;32m      8\u001b[0m \u001b[1;32mimport\u001b[0m \u001b[0mmatplotlib\u001b[0m\u001b[1;33m.\u001b[0m\u001b[0mpyplot\u001b[0m \u001b[1;32mas\u001b[0m \u001b[0mplt\u001b[0m\u001b[1;33m\u001b[0m\u001b[1;33m\u001b[0m\u001b[0m\n",
      "\u001b[1;31mModuleNotFoundError\u001b[0m: No module named 'geopandas'"
     ]
    }
   ],
   "source": [
    "import pandas as pd\n",
    "import numpy as np\n",
    "import datetime\n",
    "import requests\n",
    "import warnings\n",
    "import geopandas as gpd\n",
    "\n",
    "import matplotlib.pyplot as plt\n",
    "import matplotlib\n",
    "import seaborn as sns\n",
    "import squarify\n",
    "import plotly.offline as py\n",
    "import plotly_express as px\n",
    "\n",
    "%matplotlib inline"
   ]
  },
  {
   "cell_type": "code",
   "execution_count": null,
   "metadata": {},
   "outputs": [],
   "source": [
    "\n",
    "\n",
    "# import shapefile as shp  # Requires the pyshp package\n",
    "# import matplotlib.pyplot as plt\n",
    "# lsoas = gpd.read_file(\"IND_adm/IND_adm3.shp\")\n",
    "\n",
    "# fig, ax = plt.subplots(1, figsize=(20, 12))\n",
    "# ax.axis(\"off\")\n",
    "\n",
    "# ax.set_title('Covid-19 Statewise Data — Confirmed Cases', \n",
    "#              fontdict =  {\"fontsize\": \"25\", \"fontweight\" : \"3\"})\n",
    "\n",
    "# # merged_data.plot(column = \"Confirmed\", cmap=\"YlOrRd\", \n",
    "# #                  linewidth=0.8, ax=ax, edgecolor=\"0\", \n",
    "# #                  legend = True)\n",
    "\n",
    "\n",
    "# lsoas.plot(ax=ax)\n",
    "# plt.show()\n",
    "\n"
   ]
  },
  {
   "cell_type": "code",
   "execution_count": null,
   "metadata": {},
   "outputs": [],
   "source": [
    "age_details = pd.read_csv('New_Data/AgeGroupDetails.csv')\n",
    "india_covid_19 = pd.read_csv('New_Data/covid_19_india.csv')\n",
    "hospital_beds = pd.read_csv('New_Data/HospitalBedsIndia.csv')\n",
    "individual_details = pd.read_csv('New_Data/IndividualDetails.csv')\n",
    "ICMR_details = pd.read_csv('New_Data/ICMRTestingDetails.csv')\n",
    "ICMR_labs = pd.read_csv('New_Data/ICMRTestingLabs.csv')\n",
    "state_testing = pd.read_csv('New_Data/StatewiseTestingDetails.csv')"
   ]
  },
  {
   "cell_type": "code",
   "execution_count": null,
   "metadata": {},
   "outputs": [],
   "source": [
    "confirmed_df = pd.read_csv('https://raw.githubusercontent.com/CSSEGISandData/COVID-19/master/csse_covid_19_data/csse_covid_19_time_series/time_series_covid19_confirmed_global.csv')\n",
    "deaths_df = pd.read_csv('https://raw.githubusercontent.com/CSSEGISandData/COVID-19/master/csse_covid_19_data/csse_covid_19_time_series/time_series_covid19_deaths_global.csv')\n",
    "recovered_df = pd.read_csv('https://raw.githubusercontent.com/CSSEGISandData/COVID-19/master/csse_covid_19_data/csse_covid_19_time_series/time_series_covid19_recovered_global.csv')\n",
    "latest_data = pd.read_csv('https://raw.githubusercontent.com/CSSEGISandData/COVID-19/master/csse_covid_19_data/csse_covid_19_daily_reports/04-04-2020.csv')\n",
    "india_covid_19['Date'] = pd.to_datetime(india_covid_19['Date'])\n",
    "state_testing['Date'] = pd.to_datetime(state_testing['Date'])"
   ]
  },
  {
   "cell_type": "code",
   "execution_count": null,
   "metadata": {},
   "outputs": [],
   "source": [
    "state_details = pd.pivot_table(india_covid_19, values=['ConfirmedForeignNational','ConfirmedIndianNational','Confirmed','Deaths','Cured'], index='State/UnionTerritory', aggfunc='max')\n",
    "state_details = state_details.sort_values(by='Confirmed', ascending= False)\n",
    "\n",
    "state_details[\"Total\"] = state_details.Confirmed + state_details.Cured + state_details.Deaths\n",
    "\n",
    "state_details[\"States/UT\"] = state_details.index\n",
    "state_details.sort_values(by=['States/UT'],inplace =True)\n",
    "state_details.head()"
   ]
  },
  {
   "cell_type": "code",
   "execution_count": null,
   "metadata": {},
   "outputs": [],
   "source": [
    "map_data = gpd.read_file(\"./India_Shape_File/Indian_States.shp\")\n",
    "map_data.rename(columns = {\"st_nm\":\"States/UT\"}, inplace = True)\n",
    "map_data.head()"
   ]
  },
  {
   "cell_type": "code",
   "execution_count": null,
   "metadata": {},
   "outputs": [],
   "source": [
    "map_data[\"States/UT\"] = map_data[\"States/UT\"].str.replace(\"&\",\"and\")"
   ]
  },
  {
   "cell_type": "code",
   "execution_count": null,
   "metadata": {},
   "outputs": [],
   "source": [
    "map_data[\"States/UT\"].replace(\"Arunanchal Pradesh\", \"Arunachal Pradesh\", inplace = True)\n",
    "map_data[\"States/UT\"].replace(\"Telangana\", \"Telengana\", inplace = True)\n",
    "map_data[\"States/UT\"].replace(\"NCT of Delhi\",  \"Delhi\", inplace = True)\n",
    "map_data['States/UT'].replace('Andaman and Nicobar Island', 'Andaman and Nicobar Islands',inplace = True)"
   ]
  },
  {
   "cell_type": "code",
   "execution_count": null,
   "metadata": {},
   "outputs": [],
   "source": [
    "merged_data = pd.merge(map_data, state_details, how = \"left\", on = \"States/UT\")\n",
    "\n",
    "merged_data.fillna(0, inplace = True)"
   ]
  },
  {
   "cell_type": "code",
   "execution_count": null,
   "metadata": {},
   "outputs": [],
   "source": [
    "fig, ax = plt.subplots(1, figsize=(20, 12))\n",
    "ax.axis(\"off\")\n",
    "\n",
    "ax.set_title('Covid-19 Statewise Data — Confirmed Cases', \n",
    "             fontdict =  {\"fontsize\": \"25\", \"fontweight\" : \"3\"})\n",
    "\n",
    "merged_data.plot(column = \"Confirmed\", cmap=\"YlOrRd\", \n",
    "                 linewidth=0.8, ax=ax, edgecolor=\"0\", \n",
    "                 legend = True)\n",
    "plt.show()"
   ]
  },
  {
   "cell_type": "code",
   "execution_count": null,
   "metadata": {},
   "outputs": [],
   "source": [
    "merged_data[\"ConfirmedIndianNational\"].replace('-','0',inplace=True)\n",
    "merged_data[\"ConfirmedIndianNational\"] = merged_data[\"ConfirmedIndianNational\"].apply(int)"
   ]
  },
  {
   "cell_type": "code",
   "execution_count": null,
   "metadata": {},
   "outputs": [],
   "source": [
    "state = merged_data[\"States/UT\"]\n",
    "cases = merged_data[\"Total\"]\n",
    "\n",
    "# explode = merged_data.ConfirmedIndianNational.apply(lambda x:x > 100)\n",
    "# explode = explode.apply(lambda x:0.2 if x == True else 0)\n",
    "\n",
    "plt.title(\"COVID-19 Deaths Vs Cases\", bbox={\"facecolor\":\"1\", \"pad\":5}).set_position([.5,1.8])\n",
    "plt.pie(cases,autopct=\"%1.2f%%\",shadow=True, radius=6,)\n",
    "plt.legend(state, loc=\"center\",bbox_to_anchor=(2.5, 0.5))\n",
    "plt.show()"
   ]
  },
  {
   "cell_type": "code",
   "execution_count": null,
   "metadata": {},
   "outputs": [],
   "source": [
    "fig = plt.figure()\n",
    "ax = fig.add_axes([0,0,1,1])\n",
    "ax.bar(state_details[\"States/UT\"],state_details[\"Deaths\"], color = list(\"rgbkymc\"), width = 0.25)\n",
    "plt.title(\"COVID-19 INDIA\")\n",
    "plt.xticks(rotation=90)\n",
    "plt.xlabel(\"State Name\")\n",
    "plt.ylabel(\"Number of Deaths\")\n",
    "plt.show()"
   ]
  },
  {
   "cell_type": "code",
   "execution_count": null,
   "metadata": {},
   "outputs": [],
   "source": []
  },
  {
   "cell_type": "code",
   "execution_count": null,
   "metadata": {},
   "outputs": [],
   "source": []
  },
  {
   "cell_type": "code",
   "execution_count": null,
   "metadata": {},
   "outputs": [],
   "source": []
  },
  {
   "cell_type": "code",
   "execution_count": null,
   "metadata": {},
   "outputs": [],
   "source": []
  }
 ],
 "metadata": {
  "kernelspec": {
   "display_name": "Python 3",
   "language": "python",
   "name": "python3"
  }
 },
 "nbformat": 4,
 "nbformat_minor": 4
}
